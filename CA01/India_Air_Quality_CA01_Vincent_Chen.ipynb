{
  "nbformat": 4,
  "nbformat_minor": 0,
  "metadata": {
    "kernelspec": {
      "name": "python3",
      "display_name": "Python 3"
    },
    "language_info": {
      "codemirror_mode": {
        "name": "ipython",
        "version": 3
      },
      "file_extension": ".py",
      "mimetype": "text/x-python",
      "name": "python",
      "nbconvert_exporter": "python",
      "pygments_lexer": "ipython3",
      "version": "3.5.4"
    },
    "colab": {
      "name": "India Air Quality-CA01-Vincent-Chen.ipynb",
      "provenance": [],
      "collapsed_sections": []
    },
    "accelerator": "GPU"
  },
  "cells": [
    {
      "cell_type": "markdown",
      "metadata": {
        "id": "DXLeYyzOQf2w",
        "colab_type": "text"
      },
      "source": [
        "# Your name: Vincent Chen\n",
        "## Assignment Name: CA01 - Data Cleaning and Exploration of India Air Quality"
      ]
    },
    {
      "cell_type": "markdown",
      "metadata": {
        "id": "M8KOEUW6Qf22",
        "colab_type": "text"
      },
      "source": [
        "# Program Inititialization Section\n",
        "## Enter your import packages here"
      ]
    },
    {
      "cell_type": "code",
      "metadata": {
        "id": "2yAKbmqnQf23",
        "colab_type": "code",
        "colab": {}
      },
      "source": [
        "# import packages \n",
        "import numpy as np\n",
        "import pandas as pd\n",
        "import statsmodels as sample_data\n",
        "from sklearn.impute import SimpleImputer\n",
        "import datetime as dt\n",
        "import matplotlib.pyplot as plt\n"
      ],
      "execution_count": 0,
      "outputs": []
    },
    {
      "cell_type": "markdown",
      "metadata": {
        "id": "p63DELZeQf2_",
        "colab_type": "text"
      },
      "source": [
        "# Data File Reading Section\n",
        "## Write code to read in data from external sources here"
      ]
    },
    {
      "cell_type": "code",
      "metadata": {
        "id": "ywk0kxicQf3A",
        "colab_type": "code",
        "outputId": "ba7e1dcb-02e6-4d2c-9a25-c909b1f288f8",
        "colab": {
          "base_uri": "https://localhost:8080/",
          "height": 565
        }
      },
      "source": [
        "#read datasets\n",
        "df=pd.read_csv('data.csv',encoding = 'unicode_escape')\n",
        "df.head(10)"
      ],
      "execution_count": 14,
      "outputs": [
        {
          "output_type": "stream",
          "text": [
            "/usr/local/lib/python3.6/dist-packages/IPython/core/interactiveshell.py:2718: DtypeWarning: Columns (0) have mixed types. Specify dtype option on import or set low_memory=False.\n",
            "  interactivity=interactivity, compiler=compiler, result=result)\n"
          ],
          "name": "stderr"
        },
        {
          "output_type": "execute_result",
          "data": {
            "text/html": [
              "<div>\n",
              "<style scoped>\n",
              "    .dataframe tbody tr th:only-of-type {\n",
              "        vertical-align: middle;\n",
              "    }\n",
              "\n",
              "    .dataframe tbody tr th {\n",
              "        vertical-align: top;\n",
              "    }\n",
              "\n",
              "    .dataframe thead th {\n",
              "        text-align: right;\n",
              "    }\n",
              "</style>\n",
              "<table border=\"1\" class=\"dataframe\">\n",
              "  <thead>\n",
              "    <tr style=\"text-align: right;\">\n",
              "      <th></th>\n",
              "      <th>stn_code</th>\n",
              "      <th>sampling_date</th>\n",
              "      <th>state</th>\n",
              "      <th>location</th>\n",
              "      <th>agency</th>\n",
              "      <th>type</th>\n",
              "      <th>so2</th>\n",
              "      <th>no2</th>\n",
              "      <th>rspm</th>\n",
              "      <th>spm</th>\n",
              "      <th>location_monitoring_station</th>\n",
              "      <th>pm2_5</th>\n",
              "      <th>date</th>\n",
              "    </tr>\n",
              "  </thead>\n",
              "  <tbody>\n",
              "    <tr>\n",
              "      <th>0</th>\n",
              "      <td>150</td>\n",
              "      <td>February - M021990</td>\n",
              "      <td>Andhra Pradesh</td>\n",
              "      <td>Hyderabad</td>\n",
              "      <td>NaN</td>\n",
              "      <td>Residential, Rural and other Areas</td>\n",
              "      <td>4.8</td>\n",
              "      <td>17.4</td>\n",
              "      <td>NaN</td>\n",
              "      <td>NaN</td>\n",
              "      <td>NaN</td>\n",
              "      <td>NaN</td>\n",
              "      <td>1990-02-01</td>\n",
              "    </tr>\n",
              "    <tr>\n",
              "      <th>1</th>\n",
              "      <td>151</td>\n",
              "      <td>February - M021990</td>\n",
              "      <td>Andhra Pradesh</td>\n",
              "      <td>Hyderabad</td>\n",
              "      <td>NaN</td>\n",
              "      <td>Industrial Area</td>\n",
              "      <td>3.1</td>\n",
              "      <td>7.0</td>\n",
              "      <td>NaN</td>\n",
              "      <td>NaN</td>\n",
              "      <td>NaN</td>\n",
              "      <td>NaN</td>\n",
              "      <td>1990-02-01</td>\n",
              "    </tr>\n",
              "    <tr>\n",
              "      <th>2</th>\n",
              "      <td>152</td>\n",
              "      <td>February - M021990</td>\n",
              "      <td>Andhra Pradesh</td>\n",
              "      <td>Hyderabad</td>\n",
              "      <td>NaN</td>\n",
              "      <td>Residential, Rural and other Areas</td>\n",
              "      <td>6.2</td>\n",
              "      <td>28.5</td>\n",
              "      <td>NaN</td>\n",
              "      <td>NaN</td>\n",
              "      <td>NaN</td>\n",
              "      <td>NaN</td>\n",
              "      <td>1990-02-01</td>\n",
              "    </tr>\n",
              "    <tr>\n",
              "      <th>3</th>\n",
              "      <td>150</td>\n",
              "      <td>March - M031990</td>\n",
              "      <td>Andhra Pradesh</td>\n",
              "      <td>Hyderabad</td>\n",
              "      <td>NaN</td>\n",
              "      <td>Residential, Rural and other Areas</td>\n",
              "      <td>6.3</td>\n",
              "      <td>14.7</td>\n",
              "      <td>NaN</td>\n",
              "      <td>NaN</td>\n",
              "      <td>NaN</td>\n",
              "      <td>NaN</td>\n",
              "      <td>1990-03-01</td>\n",
              "    </tr>\n",
              "    <tr>\n",
              "      <th>4</th>\n",
              "      <td>151</td>\n",
              "      <td>March - M031990</td>\n",
              "      <td>Andhra Pradesh</td>\n",
              "      <td>Hyderabad</td>\n",
              "      <td>NaN</td>\n",
              "      <td>Industrial Area</td>\n",
              "      <td>4.7</td>\n",
              "      <td>7.5</td>\n",
              "      <td>NaN</td>\n",
              "      <td>NaN</td>\n",
              "      <td>NaN</td>\n",
              "      <td>NaN</td>\n",
              "      <td>1990-03-01</td>\n",
              "    </tr>\n",
              "    <tr>\n",
              "      <th>5</th>\n",
              "      <td>152</td>\n",
              "      <td>March - M031990</td>\n",
              "      <td>Andhra Pradesh</td>\n",
              "      <td>Hyderabad</td>\n",
              "      <td>NaN</td>\n",
              "      <td>Residential, Rural and other Areas</td>\n",
              "      <td>6.4</td>\n",
              "      <td>25.7</td>\n",
              "      <td>NaN</td>\n",
              "      <td>NaN</td>\n",
              "      <td>NaN</td>\n",
              "      <td>NaN</td>\n",
              "      <td>1990-03-01</td>\n",
              "    </tr>\n",
              "    <tr>\n",
              "      <th>6</th>\n",
              "      <td>150</td>\n",
              "      <td>April - M041990</td>\n",
              "      <td>Andhra Pradesh</td>\n",
              "      <td>Hyderabad</td>\n",
              "      <td>NaN</td>\n",
              "      <td>Residential, Rural and other Areas</td>\n",
              "      <td>5.4</td>\n",
              "      <td>17.1</td>\n",
              "      <td>NaN</td>\n",
              "      <td>NaN</td>\n",
              "      <td>NaN</td>\n",
              "      <td>NaN</td>\n",
              "      <td>1990-04-01</td>\n",
              "    </tr>\n",
              "    <tr>\n",
              "      <th>7</th>\n",
              "      <td>151</td>\n",
              "      <td>April - M041990</td>\n",
              "      <td>Andhra Pradesh</td>\n",
              "      <td>Hyderabad</td>\n",
              "      <td>NaN</td>\n",
              "      <td>Industrial Area</td>\n",
              "      <td>4.7</td>\n",
              "      <td>8.7</td>\n",
              "      <td>NaN</td>\n",
              "      <td>NaN</td>\n",
              "      <td>NaN</td>\n",
              "      <td>NaN</td>\n",
              "      <td>1990-04-01</td>\n",
              "    </tr>\n",
              "    <tr>\n",
              "      <th>8</th>\n",
              "      <td>152</td>\n",
              "      <td>April - M041990</td>\n",
              "      <td>Andhra Pradesh</td>\n",
              "      <td>Hyderabad</td>\n",
              "      <td>NaN</td>\n",
              "      <td>Residential, Rural and other Areas</td>\n",
              "      <td>4.2</td>\n",
              "      <td>23.0</td>\n",
              "      <td>NaN</td>\n",
              "      <td>NaN</td>\n",
              "      <td>NaN</td>\n",
              "      <td>NaN</td>\n",
              "      <td>1990-04-01</td>\n",
              "    </tr>\n",
              "    <tr>\n",
              "      <th>9</th>\n",
              "      <td>151</td>\n",
              "      <td>May - M051990</td>\n",
              "      <td>Andhra Pradesh</td>\n",
              "      <td>Hyderabad</td>\n",
              "      <td>NaN</td>\n",
              "      <td>Industrial Area</td>\n",
              "      <td>4.0</td>\n",
              "      <td>8.9</td>\n",
              "      <td>NaN</td>\n",
              "      <td>NaN</td>\n",
              "      <td>NaN</td>\n",
              "      <td>NaN</td>\n",
              "      <td>1990-05-01</td>\n",
              "    </tr>\n",
              "  </tbody>\n",
              "</table>\n",
              "</div>"
            ],
            "text/plain": [
              "  stn_code       sampling_date  ... pm2_5        date\n",
              "0      150  February - M021990  ...   NaN  1990-02-01\n",
              "1      151  February - M021990  ...   NaN  1990-02-01\n",
              "2      152  February - M021990  ...   NaN  1990-02-01\n",
              "3      150     March - M031990  ...   NaN  1990-03-01\n",
              "4      151     March - M031990  ...   NaN  1990-03-01\n",
              "5      152     March - M031990  ...   NaN  1990-03-01\n",
              "6      150     April - M041990  ...   NaN  1990-04-01\n",
              "7      151     April - M041990  ...   NaN  1990-04-01\n",
              "8      152     April - M041990  ...   NaN  1990-04-01\n",
              "9      151       May - M051990  ...   NaN  1990-05-01\n",
              "\n",
              "[10 rows x 13 columns]"
            ]
          },
          "metadata": {
            "tags": []
          },
          "execution_count": 14
        }
      ]
    },
    {
      "cell_type": "markdown",
      "metadata": {
        "id": "i9k1gByHQf3G",
        "colab_type": "text"
      },
      "source": [
        "# Initial Data Investigation Section\n",
        "\n",
        "## Summarized details\n",
        "### Generate descriptive statistics that summarize the central tendency, dispersion, and shape of a dataset’s distribution, excluding NaN values.\n",
        "#### Steps:\n",
        "#### 1. Statistical Description of data (data.describe)\n",
        "#### 2. Display number of total rows and columns of the dataset (data.shape)\n",
        "#### 3. Display number of non-null values for each column (data.count)\n",
        "#### 4. Display number of null values for each column (sum of data.isnull)\n",
        "#### 5. Display range, column, number of non-null objects of each column, datatype and memory usage (data.info)\n",
        "#### 6. Display Top 10 and Bottom 10 records (head and tail)"
      ]
    },
    {
      "cell_type": "code",
      "metadata": {
        "scrolled": false,
        "id": "3tgWGL2EQf3I",
        "colab_type": "code",
        "outputId": "e309cab6-055a-4dfe-86f4-e834e6f2854a",
        "colab": {
          "base_uri": "https://localhost:8080/",
          "height": 1000
        }
      },
      "source": [
        "# Your code for this section here ...\n",
        "print(df.describe)\n",
        "print(df.shape)\n",
        "print(df.count())\n",
        "print(df.isnull().sum())\n",
        "print(df.info())\n",
        "print(df.head(10))\n",
        "print(df.tail(10))"
      ],
      "execution_count": 15,
      "outputs": [
        {
          "output_type": "stream",
          "text": [
            "<bound method NDFrame.describe of        stn_code       sampling_date  ... pm2_5        date\n",
            "0           150  February - M021990  ...   NaN  1990-02-01\n",
            "1           151  February - M021990  ...   NaN  1990-02-01\n",
            "2           152  February - M021990  ...   NaN  1990-02-01\n",
            "3           150     March - M031990  ...   NaN  1990-03-01\n",
            "4           151     March - M031990  ...   NaN  1990-03-01\n",
            "...         ...                 ...  ...   ...         ...\n",
            "435737     SAMP            24-12-15  ...   NaN  2015-12-24\n",
            "435738     SAMP            29-12-15  ...   NaN  2015-12-29\n",
            "435739      NaN                 NaN  ...   NaN         NaN\n",
            "435740      NaN                 NaN  ...   NaN         NaN\n",
            "435741      NaN                 NaN  ...   NaN         NaN\n",
            "\n",
            "[435742 rows x 13 columns]>\n",
            "(435742, 13)\n",
            "stn_code                       291665\n",
            "sampling_date                  435739\n",
            "state                          435742\n",
            "location                       435739\n",
            "agency                         286261\n",
            "type                           430349\n",
            "so2                            401096\n",
            "no2                            419509\n",
            "rspm                           395520\n",
            "spm                            198355\n",
            "location_monitoring_station    408251\n",
            "pm2_5                            9314\n",
            "date                           435735\n",
            "dtype: int64\n",
            "stn_code                       144077\n",
            "sampling_date                       3\n",
            "state                               0\n",
            "location                            3\n",
            "agency                         149481\n",
            "type                             5393\n",
            "so2                             34646\n",
            "no2                             16233\n",
            "rspm                            40222\n",
            "spm                            237387\n",
            "location_monitoring_station     27491\n",
            "pm2_5                          426428\n",
            "date                                7\n",
            "dtype: int64\n",
            "<class 'pandas.core.frame.DataFrame'>\n",
            "RangeIndex: 435742 entries, 0 to 435741\n",
            "Data columns (total 13 columns):\n",
            "stn_code                       291665 non-null object\n",
            "sampling_date                  435739 non-null object\n",
            "state                          435742 non-null object\n",
            "location                       435739 non-null object\n",
            "agency                         286261 non-null object\n",
            "type                           430349 non-null object\n",
            "so2                            401096 non-null float64\n",
            "no2                            419509 non-null float64\n",
            "rspm                           395520 non-null float64\n",
            "spm                            198355 non-null float64\n",
            "location_monitoring_station    408251 non-null object\n",
            "pm2_5                          9314 non-null float64\n",
            "date                           435735 non-null object\n",
            "dtypes: float64(5), object(8)\n",
            "memory usage: 43.2+ MB\n",
            "None\n",
            "  stn_code       sampling_date  ... pm2_5        date\n",
            "0      150  February - M021990  ...   NaN  1990-02-01\n",
            "1      151  February - M021990  ...   NaN  1990-02-01\n",
            "2      152  February - M021990  ...   NaN  1990-02-01\n",
            "3      150     March - M031990  ...   NaN  1990-03-01\n",
            "4      151     March - M031990  ...   NaN  1990-03-01\n",
            "5      152     March - M031990  ...   NaN  1990-03-01\n",
            "6      150     April - M041990  ...   NaN  1990-04-01\n",
            "7      151     April - M041990  ...   NaN  1990-04-01\n",
            "8      152     April - M041990  ...   NaN  1990-04-01\n",
            "9      151       May - M051990  ...   NaN  1990-05-01\n",
            "\n",
            "[10 rows x 13 columns]\n",
            "       stn_code sampling_date  ... pm2_5        date\n",
            "435732     SAMP      09-12-15  ...   NaN  2015-12-09\n",
            "435733     SAMP      12-12-15  ...   NaN  2015-12-12\n",
            "435734     SAMP      15-12-15  ...   NaN  2015-12-15\n",
            "435735     SAMP      18-12-15  ...   NaN  2015-12-18\n",
            "435736     SAMP      21-12-15  ...   NaN  2015-12-21\n",
            "435737     SAMP      24-12-15  ...   NaN  2015-12-24\n",
            "435738     SAMP      29-12-15  ...   NaN  2015-12-29\n",
            "435739      NaN           NaN  ...   NaN         NaN\n",
            "435740      NaN           NaN  ...   NaN         NaN\n",
            "435741      NaN           NaN  ...   NaN         NaN\n",
            "\n",
            "[10 rows x 13 columns]\n"
          ],
          "name": "stdout"
        }
      ]
    },
    {
      "cell_type": "markdown",
      "metadata": {
        "id": "IbE5wZrAQf3O",
        "colab_type": "text"
      },
      "source": [
        "## Cleansing the dataset\n",
        "### Dropping of less valued columns:\n",
        "1. stn_code, agency, sampling_date, location_monitoring_agency do not add much value to the dataset in terms of information. Therefore, we can drop those columns.\n",
        "\n",
        "2. Dropping rows where no date is available."
      ]
    },
    {
      "cell_type": "code",
      "metadata": {
        "id": "xw8GwK_rQf3Q",
        "colab_type": "code",
        "colab": {}
      },
      "source": [
        "# Cleaning up the data\n",
        "\n",
        "#dropping columns that aren't required\n",
        "\n",
        "# ... your code here\n",
        "df2=df.drop(['stn_code', 'agency', 'sampling_date', 'location_monitoring_station'],axis=1)\n",
        "\n",
        "\n",
        "# dropping rows where no date is available\n",
        "\n",
        "# ... your code here\n",
        "df3=df2[pd.notnull(df2['date'])]"
      ],
      "execution_count": 0,
      "outputs": []
    },
    {
      "cell_type": "code",
      "metadata": {
        "id": "Oa1iMk9TQf3W",
        "colab_type": "code",
        "outputId": "e2408a50-79d9-4e0f-fa9f-925324d9dbe8",
        "colab": {
          "base_uri": "https://localhost:8080/",
          "height": 67
        }
      },
      "source": [
        "# displaying final columns (data.columns)\n",
        "\n",
        "# ... your code here\n",
        "df3.columns"
      ],
      "execution_count": 17,
      "outputs": [
        {
          "output_type": "execute_result",
          "data": {
            "text/plain": [
              "Index(['state', 'location', 'type', 'so2', 'no2', 'rspm', 'spm', 'pm2_5',\n",
              "       'date'],\n",
              "      dtype='object')"
            ]
          },
          "metadata": {
            "tags": []
          },
          "execution_count": 17
        }
      ]
    },
    {
      "cell_type": "markdown",
      "metadata": {
        "id": "G9YezvBbQf3b",
        "colab_type": "text"
      },
      "source": [
        "### Changing the types to uniform format:\n",
        "\n",
        "Notice that the ‘type’ column has values such as ‘Industrial Area’ and ‘Industrial Areas’ — both actually mean the same, so let’s remove such type of stuff and make it uniform. Replace the 'type' values with standard codes as follows:\n",
        "\n",
        "types = {\n",
        "    \"Residential\": \"R\",\n",
        "    \"Residential and others\": \"RO\",\n",
        "    \"Residential, Rural and other Areas\": \"RRO\",\n",
        "    \"Industrial Area\": \"I\",\n",
        "    \"Industrial Areas\": \"I\",\n",
        "    \"Industrial\": \"I\",\n",
        "    \"Sensitive Area\": \"S\",\n",
        "    \"Sensitive Areas\": \"S\",\n",
        "    \"Sensitive\": \"S\",\n",
        "    np.nan: \"RRO\"\n",
        "}\n",
        "\n",
        "data.type = data.type.replace(types)"
      ]
    },
    {
      "cell_type": "code",
      "metadata": {
        "id": "yMun8-MgQf3d",
        "colab_type": "code",
        "outputId": "74033012-2131-4d63-c8ed-172c7d0c6fce",
        "colab": {
          "base_uri": "https://localhost:8080/",
          "height": 118
        }
      },
      "source": [
        "# ... Your code here\n",
        "types = { \"Residential\": \"R\", \"Residential and others\": \"RO\", \n",
        "         \"Residential, Rural and other Areas\": \"RRO\", \"Industrial Area\": \"I\",\n",
        "         \"Industrial Areas\": \"I\", \"Industrial\": \"I\", \"Sensitive Area\": \"S\", \n",
        "         \"Sensitive Areas\": \"S\", \"Sensitive\": \"S\", np.nan: \"RRO\" }\n",
        "\n",
        "df3.type = df3.type.replace(types)"
      ],
      "execution_count": 18,
      "outputs": [
        {
          "output_type": "stream",
          "text": [
            "/usr/local/lib/python3.6/dist-packages/pandas/core/generic.py:5208: SettingWithCopyWarning: \n",
            "A value is trying to be set on a copy of a slice from a DataFrame.\n",
            "Try using .loc[row_indexer,col_indexer] = value instead\n",
            "\n",
            "See the caveats in the documentation: http://pandas.pydata.org/pandas-docs/stable/user_guide/indexing.html#returning-a-view-versus-a-copy\n",
            "  self[name] = value\n"
          ],
          "name": "stderr"
        }
      ]
    },
    {
      "cell_type": "code",
      "metadata": {
        "id": "SnPRpy_pQf3i",
        "colab_type": "code",
        "outputId": "fa299b2c-43b7-468e-e1d4-947029b85201",
        "colab": {
          "base_uri": "https://localhost:8080/",
          "height": 343
        }
      },
      "source": [
        "# Display top 10 records after codification of 'types'\n",
        "# ... Your code here\n",
        "df3.head(10)"
      ],
      "execution_count": 19,
      "outputs": [
        {
          "output_type": "execute_result",
          "data": {
            "text/html": [
              "<div>\n",
              "<style scoped>\n",
              "    .dataframe tbody tr th:only-of-type {\n",
              "        vertical-align: middle;\n",
              "    }\n",
              "\n",
              "    .dataframe tbody tr th {\n",
              "        vertical-align: top;\n",
              "    }\n",
              "\n",
              "    .dataframe thead th {\n",
              "        text-align: right;\n",
              "    }\n",
              "</style>\n",
              "<table border=\"1\" class=\"dataframe\">\n",
              "  <thead>\n",
              "    <tr style=\"text-align: right;\">\n",
              "      <th></th>\n",
              "      <th>state</th>\n",
              "      <th>location</th>\n",
              "      <th>type</th>\n",
              "      <th>so2</th>\n",
              "      <th>no2</th>\n",
              "      <th>rspm</th>\n",
              "      <th>spm</th>\n",
              "      <th>pm2_5</th>\n",
              "      <th>date</th>\n",
              "    </tr>\n",
              "  </thead>\n",
              "  <tbody>\n",
              "    <tr>\n",
              "      <th>0</th>\n",
              "      <td>Andhra Pradesh</td>\n",
              "      <td>Hyderabad</td>\n",
              "      <td>RRO</td>\n",
              "      <td>4.8</td>\n",
              "      <td>17.4</td>\n",
              "      <td>NaN</td>\n",
              "      <td>NaN</td>\n",
              "      <td>NaN</td>\n",
              "      <td>1990-02-01</td>\n",
              "    </tr>\n",
              "    <tr>\n",
              "      <th>1</th>\n",
              "      <td>Andhra Pradesh</td>\n",
              "      <td>Hyderabad</td>\n",
              "      <td>I</td>\n",
              "      <td>3.1</td>\n",
              "      <td>7.0</td>\n",
              "      <td>NaN</td>\n",
              "      <td>NaN</td>\n",
              "      <td>NaN</td>\n",
              "      <td>1990-02-01</td>\n",
              "    </tr>\n",
              "    <tr>\n",
              "      <th>2</th>\n",
              "      <td>Andhra Pradesh</td>\n",
              "      <td>Hyderabad</td>\n",
              "      <td>RRO</td>\n",
              "      <td>6.2</td>\n",
              "      <td>28.5</td>\n",
              "      <td>NaN</td>\n",
              "      <td>NaN</td>\n",
              "      <td>NaN</td>\n",
              "      <td>1990-02-01</td>\n",
              "    </tr>\n",
              "    <tr>\n",
              "      <th>3</th>\n",
              "      <td>Andhra Pradesh</td>\n",
              "      <td>Hyderabad</td>\n",
              "      <td>RRO</td>\n",
              "      <td>6.3</td>\n",
              "      <td>14.7</td>\n",
              "      <td>NaN</td>\n",
              "      <td>NaN</td>\n",
              "      <td>NaN</td>\n",
              "      <td>1990-03-01</td>\n",
              "    </tr>\n",
              "    <tr>\n",
              "      <th>4</th>\n",
              "      <td>Andhra Pradesh</td>\n",
              "      <td>Hyderabad</td>\n",
              "      <td>I</td>\n",
              "      <td>4.7</td>\n",
              "      <td>7.5</td>\n",
              "      <td>NaN</td>\n",
              "      <td>NaN</td>\n",
              "      <td>NaN</td>\n",
              "      <td>1990-03-01</td>\n",
              "    </tr>\n",
              "    <tr>\n",
              "      <th>5</th>\n",
              "      <td>Andhra Pradesh</td>\n",
              "      <td>Hyderabad</td>\n",
              "      <td>RRO</td>\n",
              "      <td>6.4</td>\n",
              "      <td>25.7</td>\n",
              "      <td>NaN</td>\n",
              "      <td>NaN</td>\n",
              "      <td>NaN</td>\n",
              "      <td>1990-03-01</td>\n",
              "    </tr>\n",
              "    <tr>\n",
              "      <th>6</th>\n",
              "      <td>Andhra Pradesh</td>\n",
              "      <td>Hyderabad</td>\n",
              "      <td>RRO</td>\n",
              "      <td>5.4</td>\n",
              "      <td>17.1</td>\n",
              "      <td>NaN</td>\n",
              "      <td>NaN</td>\n",
              "      <td>NaN</td>\n",
              "      <td>1990-04-01</td>\n",
              "    </tr>\n",
              "    <tr>\n",
              "      <th>7</th>\n",
              "      <td>Andhra Pradesh</td>\n",
              "      <td>Hyderabad</td>\n",
              "      <td>I</td>\n",
              "      <td>4.7</td>\n",
              "      <td>8.7</td>\n",
              "      <td>NaN</td>\n",
              "      <td>NaN</td>\n",
              "      <td>NaN</td>\n",
              "      <td>1990-04-01</td>\n",
              "    </tr>\n",
              "    <tr>\n",
              "      <th>8</th>\n",
              "      <td>Andhra Pradesh</td>\n",
              "      <td>Hyderabad</td>\n",
              "      <td>RRO</td>\n",
              "      <td>4.2</td>\n",
              "      <td>23.0</td>\n",
              "      <td>NaN</td>\n",
              "      <td>NaN</td>\n",
              "      <td>NaN</td>\n",
              "      <td>1990-04-01</td>\n",
              "    </tr>\n",
              "    <tr>\n",
              "      <th>9</th>\n",
              "      <td>Andhra Pradesh</td>\n",
              "      <td>Hyderabad</td>\n",
              "      <td>I</td>\n",
              "      <td>4.0</td>\n",
              "      <td>8.9</td>\n",
              "      <td>NaN</td>\n",
              "      <td>NaN</td>\n",
              "      <td>NaN</td>\n",
              "      <td>1990-05-01</td>\n",
              "    </tr>\n",
              "  </tbody>\n",
              "</table>\n",
              "</div>"
            ],
            "text/plain": [
              "            state   location type  so2   no2  rspm  spm  pm2_5        date\n",
              "0  Andhra Pradesh  Hyderabad  RRO  4.8  17.4   NaN  NaN    NaN  1990-02-01\n",
              "1  Andhra Pradesh  Hyderabad    I  3.1   7.0   NaN  NaN    NaN  1990-02-01\n",
              "2  Andhra Pradesh  Hyderabad  RRO  6.2  28.5   NaN  NaN    NaN  1990-02-01\n",
              "3  Andhra Pradesh  Hyderabad  RRO  6.3  14.7   NaN  NaN    NaN  1990-03-01\n",
              "4  Andhra Pradesh  Hyderabad    I  4.7   7.5   NaN  NaN    NaN  1990-03-01\n",
              "5  Andhra Pradesh  Hyderabad  RRO  6.4  25.7   NaN  NaN    NaN  1990-03-01\n",
              "6  Andhra Pradesh  Hyderabad  RRO  5.4  17.1   NaN  NaN    NaN  1990-04-01\n",
              "7  Andhra Pradesh  Hyderabad    I  4.7   8.7   NaN  NaN    NaN  1990-04-01\n",
              "8  Andhra Pradesh  Hyderabad  RRO  4.2  23.0   NaN  NaN    NaN  1990-04-01\n",
              "9  Andhra Pradesh  Hyderabad    I  4.0   8.9   NaN  NaN    NaN  1990-05-01"
            ]
          },
          "metadata": {
            "tags": []
          },
          "execution_count": 19
        }
      ]
    },
    {
      "cell_type": "markdown",
      "metadata": {
        "id": "anx68IO-Qf3o",
        "colab_type": "text"
      },
      "source": [
        "### Creating a year column\n",
        "To view the trend over a period of time, we need year values for each row and also when you see in most of the values in date column only has ‘year’ value. So, let’s create a new column holding year values. Convert the column to 'datetime' type and extract the year to populate the new column. Display Top 5 records after the conversion."
      ]
    },
    {
      "cell_type": "code",
      "metadata": {
        "id": "u-wx7nuSQf3p",
        "colab_type": "code",
        "outputId": "83a08b8b-72c6-413c-dbf9-3e597152bb41",
        "colab": {
          "base_uri": "https://localhost:8080/",
          "height": 397
        }
      },
      "source": [
        "# ... Your code here\n",
        "df3['date']=pd.to_datetime(df3['date'])\n",
        "df3['year']=df3['date'].dt.year\n",
        "df3.head(5)"
      ],
      "execution_count": 20,
      "outputs": [
        {
          "output_type": "stream",
          "text": [
            "/usr/local/lib/python3.6/dist-packages/ipykernel_launcher.py:1: SettingWithCopyWarning: \n",
            "A value is trying to be set on a copy of a slice from a DataFrame.\n",
            "Try using .loc[row_indexer,col_indexer] = value instead\n",
            "\n",
            "See the caveats in the documentation: http://pandas.pydata.org/pandas-docs/stable/user_guide/indexing.html#returning-a-view-versus-a-copy\n",
            "  \"\"\"Entry point for launching an IPython kernel.\n",
            "/usr/local/lib/python3.6/dist-packages/ipykernel_launcher.py:2: SettingWithCopyWarning: \n",
            "A value is trying to be set on a copy of a slice from a DataFrame.\n",
            "Try using .loc[row_indexer,col_indexer] = value instead\n",
            "\n",
            "See the caveats in the documentation: http://pandas.pydata.org/pandas-docs/stable/user_guide/indexing.html#returning-a-view-versus-a-copy\n",
            "  \n"
          ],
          "name": "stderr"
        },
        {
          "output_type": "execute_result",
          "data": {
            "text/html": [
              "<div>\n",
              "<style scoped>\n",
              "    .dataframe tbody tr th:only-of-type {\n",
              "        vertical-align: middle;\n",
              "    }\n",
              "\n",
              "    .dataframe tbody tr th {\n",
              "        vertical-align: top;\n",
              "    }\n",
              "\n",
              "    .dataframe thead th {\n",
              "        text-align: right;\n",
              "    }\n",
              "</style>\n",
              "<table border=\"1\" class=\"dataframe\">\n",
              "  <thead>\n",
              "    <tr style=\"text-align: right;\">\n",
              "      <th></th>\n",
              "      <th>state</th>\n",
              "      <th>location</th>\n",
              "      <th>type</th>\n",
              "      <th>so2</th>\n",
              "      <th>no2</th>\n",
              "      <th>rspm</th>\n",
              "      <th>spm</th>\n",
              "      <th>pm2_5</th>\n",
              "      <th>date</th>\n",
              "      <th>year</th>\n",
              "    </tr>\n",
              "  </thead>\n",
              "  <tbody>\n",
              "    <tr>\n",
              "      <th>0</th>\n",
              "      <td>Andhra Pradesh</td>\n",
              "      <td>Hyderabad</td>\n",
              "      <td>RRO</td>\n",
              "      <td>4.8</td>\n",
              "      <td>17.4</td>\n",
              "      <td>NaN</td>\n",
              "      <td>NaN</td>\n",
              "      <td>NaN</td>\n",
              "      <td>1990-02-01</td>\n",
              "      <td>1990</td>\n",
              "    </tr>\n",
              "    <tr>\n",
              "      <th>1</th>\n",
              "      <td>Andhra Pradesh</td>\n",
              "      <td>Hyderabad</td>\n",
              "      <td>I</td>\n",
              "      <td>3.1</td>\n",
              "      <td>7.0</td>\n",
              "      <td>NaN</td>\n",
              "      <td>NaN</td>\n",
              "      <td>NaN</td>\n",
              "      <td>1990-02-01</td>\n",
              "      <td>1990</td>\n",
              "    </tr>\n",
              "    <tr>\n",
              "      <th>2</th>\n",
              "      <td>Andhra Pradesh</td>\n",
              "      <td>Hyderabad</td>\n",
              "      <td>RRO</td>\n",
              "      <td>6.2</td>\n",
              "      <td>28.5</td>\n",
              "      <td>NaN</td>\n",
              "      <td>NaN</td>\n",
              "      <td>NaN</td>\n",
              "      <td>1990-02-01</td>\n",
              "      <td>1990</td>\n",
              "    </tr>\n",
              "    <tr>\n",
              "      <th>3</th>\n",
              "      <td>Andhra Pradesh</td>\n",
              "      <td>Hyderabad</td>\n",
              "      <td>RRO</td>\n",
              "      <td>6.3</td>\n",
              "      <td>14.7</td>\n",
              "      <td>NaN</td>\n",
              "      <td>NaN</td>\n",
              "      <td>NaN</td>\n",
              "      <td>1990-03-01</td>\n",
              "      <td>1990</td>\n",
              "    </tr>\n",
              "    <tr>\n",
              "      <th>4</th>\n",
              "      <td>Andhra Pradesh</td>\n",
              "      <td>Hyderabad</td>\n",
              "      <td>I</td>\n",
              "      <td>4.7</td>\n",
              "      <td>7.5</td>\n",
              "      <td>NaN</td>\n",
              "      <td>NaN</td>\n",
              "      <td>NaN</td>\n",
              "      <td>1990-03-01</td>\n",
              "      <td>1990</td>\n",
              "    </tr>\n",
              "  </tbody>\n",
              "</table>\n",
              "</div>"
            ],
            "text/plain": [
              "            state   location type  so2   no2  rspm  spm  pm2_5       date  year\n",
              "0  Andhra Pradesh  Hyderabad  RRO  4.8  17.4   NaN  NaN    NaN 1990-02-01  1990\n",
              "1  Andhra Pradesh  Hyderabad    I  3.1   7.0   NaN  NaN    NaN 1990-02-01  1990\n",
              "2  Andhra Pradesh  Hyderabad  RRO  6.2  28.5   NaN  NaN    NaN 1990-02-01  1990\n",
              "3  Andhra Pradesh  Hyderabad  RRO  6.3  14.7   NaN  NaN    NaN 1990-03-01  1990\n",
              "4  Andhra Pradesh  Hyderabad    I  4.7   7.5   NaN  NaN    NaN 1990-03-01  1990"
            ]
          },
          "metadata": {
            "tags": []
          },
          "execution_count": 20
        }
      ]
    },
    {
      "cell_type": "markdown",
      "metadata": {
        "id": "8y5zq2n_Qf30",
        "colab_type": "text"
      },
      "source": [
        "### Handling Missing Values\n",
        "\n",
        "The column such as SO2, NO2, rspm, spm, pm2_5 are the ones which contribute much to our analysis. So, we need to remove null from those columns to avoid inaccuracy in the prediction.\n",
        "We use the Imputer from sklearn.preprocessing to fill the missing values in every column with the mean."
      ]
    },
    {
      "cell_type": "code",
      "metadata": {
        "id": "z7y_9gSzQf31",
        "colab_type": "code",
        "outputId": "8d077384-424c-4f44-d823-f524e7ea5263",
        "colab": {
          "base_uri": "https://localhost:8080/",
          "height": 773
        }
      },
      "source": [
        "# define columns of importance, which shall be used reguarly (COLS = ....)\n",
        "# invoke SimpleImputer to fill missing values using 'mean' as the replacement strategy\n",
        "# Display data.info after the transformation\n",
        "# Display that there are no more missing values in the dataset\n",
        "\n",
        "# ... your code here\n",
        "\n",
        "#df3['so2']=df3['so2'].fillna(df3['so2'].mean())\n",
        "#df3['no2']=df3['no2'].fillna(df3['no2'].mean())\n",
        "#df3['rspm']=df3['rspm'].fillna(df3['rspm'].mean())\n",
        "#df3['spm']=df3['spm'].fillna(df3['spm'].mean())\n",
        "#df3['pm2_5']=df3['pm2_5'].fillna(df3['pm2_5'].mean())\n",
        "#df3.info()\n",
        "\n",
        "\n",
        "imp=SimpleImputer(missing_values=np.nan,strategy='mean')\n",
        "\n",
        "imp = imp.fit(df3[['so2']])\n",
        "df3['so2'] = imp.transform(df3[['so2']]).ravel()\n",
        "imp = imp.fit(df3[['no2']])\n",
        "df3['no2'] = imp.transform(df3[['no2']]).ravel()\n",
        "imp = imp.fit(df3[['rspm']])\n",
        "df3['rspm'] = imp.transform(df3[['rspm']]).ravel()\n",
        "imp = imp.fit(df3[['spm']])\n",
        "df3['spm'] = imp.transform(df3[['spm']]).ravel()\n",
        "imp = imp.fit(df3[['pm2_5']])\n",
        "df3['pm2_5'] = imp.transform(df3[['pm2_5']]).ravel()\n",
        "df3.info()\n"
      ],
      "execution_count": 21,
      "outputs": [
        {
          "output_type": "stream",
          "text": [
            "<class 'pandas.core.frame.DataFrame'>\n",
            "Int64Index: 435735 entries, 0 to 435738\n",
            "Data columns (total 10 columns):\n",
            "state       435735 non-null object\n",
            "location    435735 non-null object\n",
            "type        435735 non-null object\n",
            "so2         435735 non-null float64\n",
            "no2         435735 non-null float64\n",
            "rspm        435735 non-null float64\n",
            "spm         435735 non-null float64\n",
            "pm2_5       435735 non-null float64\n",
            "date        435735 non-null datetime64[ns]\n",
            "year        435735 non-null int64\n",
            "dtypes: datetime64[ns](1), float64(5), int64(1), object(3)\n",
            "memory usage: 36.6+ MB\n"
          ],
          "name": "stdout"
        },
        {
          "output_type": "stream",
          "text": [
            "/usr/local/lib/python3.6/dist-packages/ipykernel_launcher.py:6: SettingWithCopyWarning: \n",
            "A value is trying to be set on a copy of a slice from a DataFrame.\n",
            "Try using .loc[row_indexer,col_indexer] = value instead\n",
            "\n",
            "See the caveats in the documentation: http://pandas.pydata.org/pandas-docs/stable/user_guide/indexing.html#returning-a-view-versus-a-copy\n",
            "  \n",
            "/usr/local/lib/python3.6/dist-packages/ipykernel_launcher.py:8: SettingWithCopyWarning: \n",
            "A value is trying to be set on a copy of a slice from a DataFrame.\n",
            "Try using .loc[row_indexer,col_indexer] = value instead\n",
            "\n",
            "See the caveats in the documentation: http://pandas.pydata.org/pandas-docs/stable/user_guide/indexing.html#returning-a-view-versus-a-copy\n",
            "  \n",
            "/usr/local/lib/python3.6/dist-packages/ipykernel_launcher.py:10: SettingWithCopyWarning: \n",
            "A value is trying to be set on a copy of a slice from a DataFrame.\n",
            "Try using .loc[row_indexer,col_indexer] = value instead\n",
            "\n",
            "See the caveats in the documentation: http://pandas.pydata.org/pandas-docs/stable/user_guide/indexing.html#returning-a-view-versus-a-copy\n",
            "  # Remove the CWD from sys.path while we load stuff.\n",
            "/usr/local/lib/python3.6/dist-packages/ipykernel_launcher.py:12: SettingWithCopyWarning: \n",
            "A value is trying to be set on a copy of a slice from a DataFrame.\n",
            "Try using .loc[row_indexer,col_indexer] = value instead\n",
            "\n",
            "See the caveats in the documentation: http://pandas.pydata.org/pandas-docs/stable/user_guide/indexing.html#returning-a-view-versus-a-copy\n",
            "  if sys.path[0] == '':\n",
            "/usr/local/lib/python3.6/dist-packages/ipykernel_launcher.py:14: SettingWithCopyWarning: \n",
            "A value is trying to be set on a copy of a slice from a DataFrame.\n",
            "Try using .loc[row_indexer,col_indexer] = value instead\n",
            "\n",
            "See the caveats in the documentation: http://pandas.pydata.org/pandas-docs/stable/user_guide/indexing.html#returning-a-view-versus-a-copy\n",
            "  \n"
          ],
          "name": "stderr"
        }
      ]
    },
    {
      "cell_type": "markdown",
      "metadata": {
        "id": "0dSj57ppQf35",
        "colab_type": "text"
      },
      "source": [
        "## Statewise Grouping of so2, no2, rspm, spm values\n",
        "\n",
        "Calculate median values of so2, no2, rspm, spm for each state and display in (a) as table (b) bar chart, with values sorted in ascending order. Separate section for each of the component. Use matplotlib()."
      ]
    },
    {
      "cell_type": "markdown",
      "metadata": {
        "id": "YoLJEXcSQf36",
        "colab_type": "text"
      },
      "source": [
        "### so2 status"
      ]
    },
    {
      "cell_type": "code",
      "metadata": {
        "id": "uhO01RkdQf37",
        "colab_type": "code",
        "outputId": "6aa391f6-caaf-4ceb-dc80-839cfac711c7",
        "colab": {
          "base_uri": "https://localhost:8080/",
          "height": 970
        }
      },
      "source": [
        "# ... Your code here\n",
        "so2=df3.groupby('state')['so2'].median().sort_values(ascending=True)\n",
        "print(so2)\n",
        "plt.bar(so2.index,so2)\n",
        "plt.xticks(rotation=90)\n",
        "plt.show()\n",
        "#Observation: Uttaranchal has the highest median SO2 level and three states including\n",
        "#Meghkaya, Mizoram and Nagaland have the lowest median SO2 level from the data."
      ],
      "execution_count": 22,
      "outputs": [
        {
          "output_type": "stream",
          "text": [
            "state\n",
            "Nagaland                 2.000000\n",
            "Mizoram                  2.000000\n",
            "Meghalaya                2.000000\n",
            "Arunachal Pradesh        2.500000\n",
            "Himachal Pradesh         3.000000\n",
            "Kerala                   4.200000\n",
            "Telangana                5.000000\n",
            "Odisha                   5.000000\n",
            "Jammu & Kashmir          5.000000\n",
            "Andhra Pradesh           5.000000\n",
            "Goa                      6.000000\n",
            "Rajasthan                6.300000\n",
            "Delhi                    6.300000\n",
            "Assam                    6.500000\n",
            "Puducherry               7.266667\n",
            "Daman & Diu              7.600000\n",
            "Chandigarh               7.950000\n",
            "West Bengal              8.000000\n",
            "Dadra & Nagar Haveli     8.400000\n",
            "Karnataka               10.000000\n",
            "Uttar Pradesh           10.000000\n",
            "Tamil Nadu              10.000000\n",
            "Punjab                  10.300000\n",
            "Manipur                 10.829428\n",
            "Bihar                   10.829428\n",
            "Haryana                 10.829428\n",
            "Madhya Pradesh          10.829428\n",
            "Chhattisgarh            12.500000\n",
            "Maharashtra             13.000000\n",
            "Gujarat                 14.200000\n",
            "Jharkhand               18.700000\n",
            "Sikkim                  19.800000\n",
            "Uttarakhand             21.000000\n",
            "Uttaranchal             25.100000\n",
            "Name: so2, dtype: float64\n"
          ],
          "name": "stdout"
        },
        {
          "output_type": "display_data",
          "data": {
            "image/png": "[encoded data removed]",
            "text/plain": [
              "<Figure size 432x288 with 1 Axes>"
            ]
          },
          "metadata": {
            "tags": []
          }
        }
      ]
    },
    {
      "cell_type": "markdown",
      "metadata": {
        "id": "91Hzah1sQf4C",
        "colab_type": "text"
      },
      "source": [
        "### no2 status"
      ]
    },
    {
      "cell_type": "code",
      "metadata": {
        "id": "2SoWC8kfQf4D",
        "colab_type": "code",
        "outputId": "151f307c-290e-4f08-b048-2a66e4397dcc",
        "colab": {
          "base_uri": "https://localhost:8080/",
          "height": 970
        }
      },
      "source": [
        "# ... Your code here\n",
        "no2=df3.groupby('state')['no2'].median().sort_values(ascending=True)\n",
        "print(no2)\n",
        "plt.bar(no2.index,no2)\n",
        "plt.xticks(rotation=90)\n",
        "plt.show()\n",
        "#Observation: West Bengal has the highest NO2 level and is followed by Delhi and Jhankhand,\n",
        "#while Mizoram and Arunachal Pradesh are enjoying the lowset NO2 level of all states."
      ],
      "execution_count": 23,
      "outputs": [
        {
          "output_type": "stream",
          "text": [
            "state\n",
            "Arunachal Pradesh        5.000000\n",
            "Mizoram                  5.000000\n",
            "Nagaland                 7.000000\n",
            "Meghalaya               10.000000\n",
            "Goa                     11.600000\n",
            "Puducherry              13.000000\n",
            "Jammu & Kashmir         13.000000\n",
            "Himachal Pradesh        13.900000\n",
            "Kerala                  14.000000\n",
            "Assam                   14.000000\n",
            "Odisha                  16.000000\n",
            "Daman & Diu             17.600000\n",
            "Chandigarh              18.000000\n",
            "Dadra & Nagar Haveli    18.000000\n",
            "Madhya Pradesh          19.200000\n",
            "Manipur                 19.800000\n",
            "Andhra Pradesh          20.000000\n",
            "Tamil Nadu              21.000000\n",
            "Karnataka               21.200000\n",
            "Chhattisgarh            21.500000\n",
            "Telangana               22.000000\n",
            "Haryana                 22.750000\n",
            "Gujarat                 23.000000\n",
            "Uttarakhand             25.809659\n",
            "Rajasthan               26.000000\n",
            "Sikkim                  26.800000\n",
            "Uttar Pradesh           27.000000\n",
            "Uttaranchal             27.500000\n",
            "Punjab                  28.300000\n",
            "Maharashtra             29.000000\n",
            "Bihar                   32.000000\n",
            "Jharkhand               42.000000\n",
            "Delhi                   45.000000\n",
            "West Bengal             53.700000\n",
            "Name: no2, dtype: float64\n"
          ],
          "name": "stdout"
        },
        {
          "output_type": "display_data",
          "data": {
            "image/png": "[encoded data removed]",
            "text/plain": [
              "<Figure size 432x288 with 1 Axes>"
            ]
          },
          "metadata": {
            "tags": []
          }
        }
      ]
    },
    {
      "cell_type": "markdown",
      "metadata": {
        "id": "wtf5Dhf-Qf4I",
        "colab_type": "text"
      },
      "source": [
        "### rspm status"
      ]
    },
    {
      "cell_type": "code",
      "metadata": {
        "id": "xRDXs49AQf4K",
        "colab_type": "code",
        "outputId": "66833c01-a387-4535-c70a-8126b16b2488",
        "colab": {
          "base_uri": "https://localhost:8080/",
          "height": 970
        }
      },
      "source": [
        "# ... Your code here\n",
        "rspm=df3.groupby('state')['rspm'].median().sort_values(ascending=True)\n",
        "print(rspm)\n",
        "plt.bar(rspm.index,rspm)\n",
        "plt.xticks(rotation=90)\n",
        "plt.show()\n",
        "#Observation: Jharkhand and Uttar Pradesh have the highest rspm level and Sikkim and \n",
        "#Mizoram have the lowest level of rspm."
      ],
      "execution_count": 27,
      "outputs": [
        {
          "output_type": "stream",
          "text": [
            "state\n",
            "Sikkim                   32.000000\n",
            "Mizoram                  40.000000\n",
            "Puducherry               46.000000\n",
            "Kerala                   49.000000\n",
            "Goa                      56.000000\n",
            "Meghalaya                57.000000\n",
            "Tamil Nadu               59.000000\n",
            "Manipur                  61.000000\n",
            "Karnataka                63.000000\n",
            "Arunachal Pradesh        74.500000\n",
            "Andhra Pradesh           76.000000\n",
            "Assam                    77.000000\n",
            "Nagaland                 78.000000\n",
            "Telangana                80.000000\n",
            "Odisha                   81.000000\n",
            "Himachal Pradesh         90.000000\n",
            "Chandigarh               90.000000\n",
            "Dadra & Nagar Haveli     91.000000\n",
            "Gujarat                  95.000000\n",
            "West Bengal              96.000000\n",
            "Maharashtra              96.000000\n",
            "Chhattisgarh            108.833091\n",
            "Madhya Pradesh          108.833091\n",
            "Bihar                   108.833091\n",
            "Daman & Diu             108.833091\n",
            "Uttaranchal             112.000000\n",
            "Rajasthan               112.000000\n",
            "Jammu & Kashmir         116.000000\n",
            "Uttarakhand             135.000000\n",
            "Delhi                   136.000000\n",
            "Haryana                 137.500000\n",
            "Punjab                  147.000000\n",
            "Uttar Pradesh           160.000000\n",
            "Jharkhand               165.000000\n",
            "Name: rspm, dtype: float64\n"
          ],
          "name": "stdout"
        },
        {
          "output_type": "display_data",
          "data": {
            "image/png": "[encoded data removed]",
            "text/plain": [
              "<Figure size 432x288 with 1 Axes>"
            ]
          },
          "metadata": {
            "tags": []
          }
        }
      ]
    },
    {
      "cell_type": "markdown",
      "metadata": {
        "id": "qb01MHsIQf4Z",
        "colab_type": "text"
      },
      "source": [
        "### spm status"
      ]
    },
    {
      "cell_type": "code",
      "metadata": {
        "id": "PmBfaLrDQf4c",
        "colab_type": "code",
        "outputId": "49792ff9-b9eb-487a-a90c-8e0e828e6fd8",
        "colab": {
          "base_uri": "https://localhost:8080/",
          "height": 970
        }
      },
      "source": [
        "# ... Your code here\n",
        "spm=df3.groupby('state')['spm'].median().sort_values(ascending=True)\n",
        "print(spm)\n",
        "plt.bar(spm.index,spm)\n",
        "plt.xticks(rotation=90)\n",
        "plt.show()\n",
        "#While Uttaranchal and Sikkim have the highest and lowest level of spm seperately,\n",
        "#there remains too much data in the same median level, indicating the possibility that \n",
        "#they are all missing values which are filled with mean before. "
      ],
      "execution_count": 28,
      "outputs": [
        {
          "output_type": "stream",
          "text": [
            "state\n",
            "Sikkim                   75.00000\n",
            "Manipur                 120.50000\n",
            "Puducherry              191.00000\n",
            "Goa                     199.00000\n",
            "Daman & Diu             200.50000\n",
            "Andhra Pradesh          220.78348\n",
            "Meghalaya               220.78348\n",
            "Mizoram                 220.78348\n",
            "Nagaland                220.78348\n",
            "Odisha                  220.78348\n",
            "Punjab                  220.78348\n",
            "Tamil Nadu              220.78348\n",
            "Telangana               220.78348\n",
            "Uttar Pradesh           220.78348\n",
            "Uttarakhand             220.78348\n",
            "Rajasthan               220.78348\n",
            "Maharashtra             220.78348\n",
            "Kerala                  220.78348\n",
            "Karnataka               220.78348\n",
            "Jharkhand               220.78348\n",
            "Jammu & Kashmir         220.78348\n",
            "Himachal Pradesh        220.78348\n",
            "Haryana                 220.78348\n",
            "Gujarat                 220.78348\n",
            "Dadra & Nagar Haveli    220.78348\n",
            "Chhattisgarh            220.78348\n",
            "Chandigarh              220.78348\n",
            "Bihar                   220.78348\n",
            "Assam                   220.78348\n",
            "Arunachal Pradesh       220.78348\n",
            "Madhya Pradesh          220.78348\n",
            "West Bengal             220.78348\n",
            "Delhi                   253.00000\n",
            "Uttaranchal             268.00000\n",
            "Name: spm, dtype: float64\n"
          ],
          "name": "stdout"
        },
        {
          "output_type": "display_data",
          "data": {
            "image/png": "[encoded data removed]",
            "text/plain": [
              "<Figure size 432x288 with 1 Axes>"
            ]
          },
          "metadata": {
            "tags": []
          }
        }
      ]
    },
    {
      "cell_type": "markdown",
      "metadata": {
        "id": "2Jtucv2EQf4n",
        "colab_type": "text"
      },
      "source": [
        "### What is the yearly trend in a particular state, say ‘Andhra Pradesh’?\n",
        "\n",
        "Create a new dataframe containing the NO2, SO2, rspm, and spm data regarding state ‘Andhra Pradesh’ only and group it by ‘year’. Display top 5 records after."
      ]
    },
    {
      "cell_type": "code",
      "metadata": {
        "id": "vZJsGtiRQf4q",
        "colab_type": "code",
        "outputId": "ef6311fb-6a42-4051-fef5-2dcea5caf862",
        "colab": {
          "base_uri": "https://localhost:8080/",
          "height": 225
        }
      },
      "source": [
        "# ... Your code here\n",
        "df4=df3[df3['state']=='Andhra Pradesh'].groupby('year').median()\n",
        "df4.head(5)"
      ],
      "execution_count": 29,
      "outputs": [
        {
          "output_type": "execute_result",
          "data": {
            "text/html": [
              "<div>\n",
              "<style scoped>\n",
              "    .dataframe tbody tr th:only-of-type {\n",
              "        vertical-align: middle;\n",
              "    }\n",
              "\n",
              "    .dataframe tbody tr th {\n",
              "        vertical-align: top;\n",
              "    }\n",
              "\n",
              "    .dataframe thead th {\n",
              "        text-align: right;\n",
              "    }\n",
              "</style>\n",
              "<table border=\"1\" class=\"dataframe\">\n",
              "  <thead>\n",
              "    <tr style=\"text-align: right;\">\n",
              "      <th></th>\n",
              "      <th>so2</th>\n",
              "      <th>no2</th>\n",
              "      <th>rspm</th>\n",
              "      <th>spm</th>\n",
              "      <th>pm2_5</th>\n",
              "    </tr>\n",
              "    <tr>\n",
              "      <th>year</th>\n",
              "      <th></th>\n",
              "      <th></th>\n",
              "      <th></th>\n",
              "      <th></th>\n",
              "      <th></th>\n",
              "    </tr>\n",
              "  </thead>\n",
              "  <tbody>\n",
              "    <tr>\n",
              "      <th>1990</th>\n",
              "      <td>5.60</td>\n",
              "      <td>13.6</td>\n",
              "      <td>108.833091</td>\n",
              "      <td>179.00000</td>\n",
              "      <td>40.791467</td>\n",
              "    </tr>\n",
              "    <tr>\n",
              "      <th>1991</th>\n",
              "      <td>8.25</td>\n",
              "      <td>12.8</td>\n",
              "      <td>108.833091</td>\n",
              "      <td>141.50000</td>\n",
              "      <td>40.791467</td>\n",
              "    </tr>\n",
              "    <tr>\n",
              "      <th>1992</th>\n",
              "      <td>12.40</td>\n",
              "      <td>27.6</td>\n",
              "      <td>108.833091</td>\n",
              "      <td>192.00000</td>\n",
              "      <td>40.791467</td>\n",
              "    </tr>\n",
              "    <tr>\n",
              "      <th>1993</th>\n",
              "      <td>6.00</td>\n",
              "      <td>11.4</td>\n",
              "      <td>108.833091</td>\n",
              "      <td>220.78348</td>\n",
              "      <td>40.791467</td>\n",
              "    </tr>\n",
              "    <tr>\n",
              "      <th>1994</th>\n",
              "      <td>8.70</td>\n",
              "      <td>14.2</td>\n",
              "      <td>108.833091</td>\n",
              "      <td>220.78348</td>\n",
              "      <td>40.791467</td>\n",
              "    </tr>\n",
              "  </tbody>\n",
              "</table>\n",
              "</div>"
            ],
            "text/plain": [
              "        so2   no2        rspm        spm      pm2_5\n",
              "year                                               \n",
              "1990   5.60  13.6  108.833091  179.00000  40.791467\n",
              "1991   8.25  12.8  108.833091  141.50000  40.791467\n",
              "1992  12.40  27.6  108.833091  192.00000  40.791467\n",
              "1993   6.00  11.4  108.833091  220.78348  40.791467\n",
              "1994   8.70  14.2  108.833091  220.78348  40.791467"
            ]
          },
          "metadata": {
            "tags": []
          },
          "execution_count": 29
        }
      ]
    },
    {
      "cell_type": "code",
      "metadata": {
        "id": "LBJcpfa8Qf5H",
        "colab_type": "code",
        "outputId": "ddcbc79e-6e43-4a16-829f-693f6dcda769",
        "colab": {
          "base_uri": "https://localhost:8080/",
          "height": 279
        }
      },
      "source": [
        "# Display yearly trend graph (year vs. value) in pairs: (a) so2 and no2 (b) rspm and spm. \n",
        "# So, you will display TWO graphs altogether.\n",
        "\n",
        "# ... Your code here\n",
        "plt.subplot(2, 1, 1) \n",
        "plt.plot(df4.index,df4.no2,label='NO2')\n",
        "plt.plot(df4.index,df4.so2,label='SO2')\n",
        "plt.ylabel('level')\n",
        "plt.legend()\n",
        "plt.subplot(2, 1, 2) \n",
        "plt.plot(df4.index,df4.rspm,label='rspm')\n",
        "plt.plot(df4.index,df4.spm,label='spm')\n",
        "plt.legend()\n",
        "plt.xlabel('year')\n",
        "plt.ylabel('level')\n",
        "plt.show()"
      ],
      "execution_count": 30,
      "outputs": [
        {
          "output_type": "display_data",
          "data": {
            "image/png": "[encoded data removed]",
            "text/plain": [
              "<Figure size 432x288 with 2 Axes>"
            ]
          },
          "metadata": {
            "tags": []
          }
        }
      ]
    },
    {
      "cell_type": "markdown",
      "metadata": {
        "id": "x5zaafTXQf5N",
        "colab_type": "text"
      },
      "source": [
        "Do you find anythumg alarming? Explain what you can conclude from this Exploratory Data Analysis for the State of Andhra Pradesh. Enter your answer here .....\n",
        "\n",
        "*The NO2 and SO2 level in this area shares a similar pattern before year 1998, then SO2 level has dropped to a moderately low level, while the NO2 level keeps high after year 1998.*\n",
        "\n",
        "*The rspm level stays at the same value until year 2002, it might be due to the lack of data in older days and the data is filled with mean. The spm level has been fluctuated during the first 20 years and reaches its highest level again since year 2010.*\n"
      ]
    }
  ]
}
