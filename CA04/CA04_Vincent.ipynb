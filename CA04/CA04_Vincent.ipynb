{
  "nbformat": 4,
  "nbformat_minor": 0,
  "metadata": {
    "colab": {
      "name": "CA04_Vincent",
      "provenance": [],
      "collapsed_sections": []
    },
    "kernelspec": {
      "name": "python3",
      "display_name": "Python 3"
    }
  },
  "cells": [
    {
      "cell_type": "code",
      "metadata": {
        "id": "eAUqtQ-T8DOB",
        "colab_type": "code",
        "colab": {}
      },
      "source": [
        "#import packages required\n",
        "import pandas as pd\n",
        "import numpy as np\n",
        "import sklearn\n",
        "import sklearn.metrics as metrics\n",
        "import matplotlib.pyplot as plt\n"
      ],
      "execution_count": 0,
      "outputs": []
    },
    {
      "cell_type": "code",
      "metadata": {
        "id": "6pInXNMZ8HNh",
        "colab_type": "code",
        "outputId": "f86805e7-d19c-4ffa-cc94-47b815084477",
        "colab": {
          "base_uri": "https://localhost:8080/",
          "height": 282
        }
      },
      "source": [
        "#open the data file as a dataframe\n",
        "census=pd.read_csv('https://github.com/ArinB/MSBA-CA-03-Decision-Trees/blob/master/census_data.csv?raw=true')\n",
        "#show the first several rows\n",
        "census.head()"
      ],
      "execution_count": 0,
      "outputs": [
        {
          "output_type": "execute_result",
          "data": {
            "text/html": [
              "<div>\n",
              "<style scoped>\n",
              "    .dataframe tbody tr th:only-of-type {\n",
              "        vertical-align: middle;\n",
              "    }\n",
              "\n",
              "    .dataframe tbody tr th {\n",
              "        vertical-align: top;\n",
              "    }\n",
              "\n",
              "    .dataframe thead th {\n",
              "        text-align: right;\n",
              "    }\n",
              "</style>\n",
              "<table border=\"1\" class=\"dataframe\">\n",
              "  <thead>\n",
              "    <tr style=\"text-align: right;\">\n",
              "      <th></th>\n",
              "      <th>hours_per_week_bin</th>\n",
              "      <th>occupation_bin</th>\n",
              "      <th>msr_bin</th>\n",
              "      <th>capital_gl_bin</th>\n",
              "      <th>race_sex_bin</th>\n",
              "      <th>education_num_bin</th>\n",
              "      <th>education_bin</th>\n",
              "      <th>workclass_bin</th>\n",
              "      <th>age_bin</th>\n",
              "      <th>flag</th>\n",
              "      <th>y</th>\n",
              "    </tr>\n",
              "  </thead>\n",
              "  <tbody>\n",
              "    <tr>\n",
              "      <th>0</th>\n",
              "      <td>b. 31-40</td>\n",
              "      <td>b. Mid - Low</td>\n",
              "      <td>b. Mid</td>\n",
              "      <td>c. &gt; 0</td>\n",
              "      <td>c. High</td>\n",
              "      <td>c. 13</td>\n",
              "      <td>c. Bachelors</td>\n",
              "      <td>b. income</td>\n",
              "      <td>d. 36-40 &amp; 56-60</td>\n",
              "      <td>train</td>\n",
              "      <td>0</td>\n",
              "    </tr>\n",
              "    <tr>\n",
              "      <th>1</th>\n",
              "      <td>a. 0-30</td>\n",
              "      <td>e. High</td>\n",
              "      <td>c. High</td>\n",
              "      <td>a. = 0</td>\n",
              "      <td>c. High</td>\n",
              "      <td>c. 13</td>\n",
              "      <td>c. Bachelors</td>\n",
              "      <td>b. income</td>\n",
              "      <td>e. 40-55</td>\n",
              "      <td>train</td>\n",
              "      <td>0</td>\n",
              "    </tr>\n",
              "    <tr>\n",
              "      <th>2</th>\n",
              "      <td>b. 31-40</td>\n",
              "      <td>a. Low</td>\n",
              "      <td>b. Mid</td>\n",
              "      <td>a. = 0</td>\n",
              "      <td>c. High</td>\n",
              "      <td>b. 9-12</td>\n",
              "      <td>b. Mid</td>\n",
              "      <td>b. income</td>\n",
              "      <td>d. 36-40 &amp; 56-60</td>\n",
              "      <td>train</td>\n",
              "      <td>0</td>\n",
              "    </tr>\n",
              "    <tr>\n",
              "      <th>3</th>\n",
              "      <td>b. 31-40</td>\n",
              "      <td>a. Low</td>\n",
              "      <td>c. High</td>\n",
              "      <td>a. = 0</td>\n",
              "      <td>b. Mid</td>\n",
              "      <td>a. 0-8</td>\n",
              "      <td>a. Low</td>\n",
              "      <td>b. income</td>\n",
              "      <td>e. 40-55</td>\n",
              "      <td>train</td>\n",
              "      <td>0</td>\n",
              "    </tr>\n",
              "    <tr>\n",
              "      <th>4</th>\n",
              "      <td>b. 31-40</td>\n",
              "      <td>e. High</td>\n",
              "      <td>c. High</td>\n",
              "      <td>a. = 0</td>\n",
              "      <td>a. Low</td>\n",
              "      <td>c. 13</td>\n",
              "      <td>c. Bachelors</td>\n",
              "      <td>b. income</td>\n",
              "      <td>b. 26-30 &amp; 71-100</td>\n",
              "      <td>train</td>\n",
              "      <td>0</td>\n",
              "    </tr>\n",
              "  </tbody>\n",
              "</table>\n",
              "</div>"
            ],
            "text/plain": [
              "  hours_per_week_bin occupation_bin  msr_bin  ...            age_bin   flag  y\n",
              "0           b. 31-40   b. Mid - Low   b. Mid  ...   d. 36-40 & 56-60  train  0\n",
              "1            a. 0-30        e. High  c. High  ...           e. 40-55  train  0\n",
              "2           b. 31-40         a. Low   b. Mid  ...   d. 36-40 & 56-60  train  0\n",
              "3           b. 31-40         a. Low  c. High  ...           e. 40-55  train  0\n",
              "4           b. 31-40        e. High  c. High  ...  b. 26-30 & 71-100  train  0\n",
              "\n",
              "[5 rows x 11 columns]"
            ]
          },
          "metadata": {
            "tags": []
          },
          "execution_count": 2
        }
      ]
    },
    {
      "cell_type": "markdown",
      "metadata": {
        "id": "sUVFbytT8LwK",
        "colab_type": "text"
      },
      "source": [
        "## **2. Finding Optimal Value of a key Hyper-parameter**\n",
        "\n",
        "\n",
        "For Ensemble Models, one of the key hyper-parameter is number of “estimators”.\n",
        "Following is an example of fining the optimal value of “Maximum Depth”. Review the following code snippet to understand how the optimal value of this hyper-parameter (Max Depth = 10) is found by plotting a graph."
      ]
    },
    {
      "cell_type": "markdown",
      "metadata": {
        "id": "IblBupOV8aPx",
        "colab_type": "text"
      },
      "source": [
        "![image.png](data:image/png;base64,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)"
      ]
    },
    {
      "cell_type": "markdown",
      "metadata": {
        "id": "dVsJVa9P8jMl",
        "colab_type": "text"
      },
      "source": [
        "## **3. Building a Random Forest Model**\n",
        "\n",
        "Using Notebook, and the same data source from CA03, train a Random Forest Model.\n",
        "Using similar approach of Section 2 above, plot a graph of Accuracy vs. n_estimator.\n",
        "Use n_estimator values as [50,100,150,200,250,300,350,400,450,500]."
      ]
    },
    {
      "cell_type": "code",
      "metadata": {
        "id": "ioEQADEb-WDI",
        "colab_type": "code",
        "outputId": "d516703a-43a8-48a1-ee39-2f5d06aeed6c",
        "colab": {
          "base_uri": "https://localhost:8080/",
          "height": 673
        }
      },
      "source": [
        "#Perform a Data Quality Analysis to find missing values, outliers, NaNs etc.\n",
        "print(census.isnull().sum())\n",
        "print(census.info())\n",
        "#no missing values like NaN is dectected\n",
        "census.describe(exclude=[np.number])"
      ],
      "execution_count": 0,
      "outputs": [
        {
          "output_type": "stream",
          "text": [
            "hours_per_week_bin    0\n",
            "occupation_bin        0\n",
            "msr_bin               0\n",
            "capital_gl_bin        0\n",
            "race_sex_bin          0\n",
            "education_num_bin     0\n",
            "education_bin         0\n",
            "workclass_bin         0\n",
            "age_bin               0\n",
            "flag                  0\n",
            "y                     0\n",
            "dtype: int64\n",
            "<class 'pandas.core.frame.DataFrame'>\n",
            "RangeIndex: 48842 entries, 0 to 48841\n",
            "Data columns (total 11 columns):\n",
            "hours_per_week_bin    48842 non-null object\n",
            "occupation_bin        48842 non-null object\n",
            "msr_bin               48842 non-null object\n",
            "capital_gl_bin        48842 non-null object\n",
            "race_sex_bin          48842 non-null object\n",
            "education_num_bin     48842 non-null object\n",
            "education_bin         48842 non-null object\n",
            "workclass_bin         48842 non-null object\n",
            "age_bin               48842 non-null object\n",
            "flag                  48842 non-null object\n",
            "y                     48842 non-null int64\n",
            "dtypes: int64(1), object(10)\n",
            "memory usage: 4.1+ MB\n",
            "None\n"
          ],
          "name": "stdout"
        },
        {
          "output_type": "execute_result",
          "data": {
            "text/html": [
              "<div>\n",
              "<style scoped>\n",
              "    .dataframe tbody tr th:only-of-type {\n",
              "        vertical-align: middle;\n",
              "    }\n",
              "\n",
              "    .dataframe tbody tr th {\n",
              "        vertical-align: top;\n",
              "    }\n",
              "\n",
              "    .dataframe thead th {\n",
              "        text-align: right;\n",
              "    }\n",
              "</style>\n",
              "<table border=\"1\" class=\"dataframe\">\n",
              "  <thead>\n",
              "    <tr style=\"text-align: right;\">\n",
              "      <th></th>\n",
              "      <th>hours_per_week_bin</th>\n",
              "      <th>occupation_bin</th>\n",
              "      <th>msr_bin</th>\n",
              "      <th>capital_gl_bin</th>\n",
              "      <th>race_sex_bin</th>\n",
              "      <th>education_num_bin</th>\n",
              "      <th>education_bin</th>\n",
              "      <th>workclass_bin</th>\n",
              "      <th>age_bin</th>\n",
              "      <th>flag</th>\n",
              "    </tr>\n",
              "  </thead>\n",
              "  <tbody>\n",
              "    <tr>\n",
              "      <th>count</th>\n",
              "      <td>48842</td>\n",
              "      <td>48842</td>\n",
              "      <td>48842</td>\n",
              "      <td>48842</td>\n",
              "      <td>48842</td>\n",
              "      <td>48842</td>\n",
              "      <td>48842</td>\n",
              "      <td>48842</td>\n",
              "      <td>48842</td>\n",
              "      <td>48842</td>\n",
              "    </tr>\n",
              "    <tr>\n",
              "      <th>unique</th>\n",
              "      <td>5</td>\n",
              "      <td>5</td>\n",
              "      <td>3</td>\n",
              "      <td>3</td>\n",
              "      <td>3</td>\n",
              "      <td>5</td>\n",
              "      <td>5</td>\n",
              "      <td>2</td>\n",
              "      <td>5</td>\n",
              "      <td>2</td>\n",
              "    </tr>\n",
              "    <tr>\n",
              "      <th>top</th>\n",
              "      <td>b. 31-40</td>\n",
              "      <td>c. Mid - Mid</td>\n",
              "      <td>c. High</td>\n",
              "      <td>a. = 0</td>\n",
              "      <td>c. High</td>\n",
              "      <td>b. 9-12</td>\n",
              "      <td>b. Mid</td>\n",
              "      <td>b. income</td>\n",
              "      <td>e. 40-55</td>\n",
              "      <td>train</td>\n",
              "    </tr>\n",
              "    <tr>\n",
              "      <th>freq</th>\n",
              "      <td>26639</td>\n",
              "      <td>13971</td>\n",
              "      <td>22047</td>\n",
              "      <td>42525</td>\n",
              "      <td>29737</td>\n",
              "      <td>30324</td>\n",
              "      <td>30324</td>\n",
              "      <td>46012</td>\n",
              "      <td>13963</td>\n",
              "      <td>32561</td>\n",
              "    </tr>\n",
              "  </tbody>\n",
              "</table>\n",
              "</div>"
            ],
            "text/plain": [
              "       hours_per_week_bin occupation_bin  ...   age_bin   flag\n",
              "count               48842          48842  ...     48842  48842\n",
              "unique                  5              5  ...         5      2\n",
              "top              b. 31-40   c. Mid - Mid  ...  e. 40-55  train\n",
              "freq                26639          13971  ...     13963  32561\n",
              "\n",
              "[4 rows x 10 columns]"
            ]
          },
          "metadata": {
            "tags": []
          },
          "execution_count": 3
        }
      ]
    },
    {
      "cell_type": "code",
      "metadata": {
        "id": "5VoTRL-aArcp",
        "colab_type": "code",
        "outputId": "6772f9af-0b16-4da2-d37e-a7f822b167cc",
        "colab": {
          "base_uri": "https://localhost:8080/",
          "height": 195
        }
      },
      "source": [
        "#create a copy of the dataframe to factorize\n",
        "census_fact=census.copy()[['hours_per_week_bin','occupation_bin','msr_bin','capital_gl_bin','race_sex_bin','education_bin','age_bin']]\n",
        "for col in census_fact.columns:\n",
        "  census_fact[col]=pd.factorize(census_fact[col])[0]\n",
        "\n",
        "#factorize() is so good at factorizing but so weak at recognizing transformation of values\n",
        "#have to manually check on which variable is factorized as 0,1,2...\n",
        "\n",
        "#add flag and y back so we can still know how to split data with outcomes\n",
        "census_fact['flag']=census['flag']\n",
        "census_fact['y']=census['y']\n",
        "\n",
        "census_fact.head()"
      ],
      "execution_count": 0,
      "outputs": [
        {
          "output_type": "execute_result",
          "data": {
            "text/html": [
              "<div>\n",
              "<style scoped>\n",
              "    .dataframe tbody tr th:only-of-type {\n",
              "        vertical-align: middle;\n",
              "    }\n",
              "\n",
              "    .dataframe tbody tr th {\n",
              "        vertical-align: top;\n",
              "    }\n",
              "\n",
              "    .dataframe thead th {\n",
              "        text-align: right;\n",
              "    }\n",
              "</style>\n",
              "<table border=\"1\" class=\"dataframe\">\n",
              "  <thead>\n",
              "    <tr style=\"text-align: right;\">\n",
              "      <th></th>\n",
              "      <th>hours_per_week_bin</th>\n",
              "      <th>occupation_bin</th>\n",
              "      <th>msr_bin</th>\n",
              "      <th>capital_gl_bin</th>\n",
              "      <th>race_sex_bin</th>\n",
              "      <th>education_bin</th>\n",
              "      <th>age_bin</th>\n",
              "      <th>flag</th>\n",
              "      <th>y</th>\n",
              "    </tr>\n",
              "  </thead>\n",
              "  <tbody>\n",
              "    <tr>\n",
              "      <th>0</th>\n",
              "      <td>0</td>\n",
              "      <td>0</td>\n",
              "      <td>0</td>\n",
              "      <td>0</td>\n",
              "      <td>0</td>\n",
              "      <td>0</td>\n",
              "      <td>0</td>\n",
              "      <td>train</td>\n",
              "      <td>0</td>\n",
              "    </tr>\n",
              "    <tr>\n",
              "      <th>1</th>\n",
              "      <td>1</td>\n",
              "      <td>1</td>\n",
              "      <td>1</td>\n",
              "      <td>1</td>\n",
              "      <td>0</td>\n",
              "      <td>0</td>\n",
              "      <td>1</td>\n",
              "      <td>train</td>\n",
              "      <td>0</td>\n",
              "    </tr>\n",
              "    <tr>\n",
              "      <th>2</th>\n",
              "      <td>0</td>\n",
              "      <td>2</td>\n",
              "      <td>0</td>\n",
              "      <td>1</td>\n",
              "      <td>0</td>\n",
              "      <td>1</td>\n",
              "      <td>0</td>\n",
              "      <td>train</td>\n",
              "      <td>0</td>\n",
              "    </tr>\n",
              "    <tr>\n",
              "      <th>3</th>\n",
              "      <td>0</td>\n",
              "      <td>2</td>\n",
              "      <td>1</td>\n",
              "      <td>1</td>\n",
              "      <td>1</td>\n",
              "      <td>2</td>\n",
              "      <td>1</td>\n",
              "      <td>train</td>\n",
              "      <td>0</td>\n",
              "    </tr>\n",
              "    <tr>\n",
              "      <th>4</th>\n",
              "      <td>0</td>\n",
              "      <td>1</td>\n",
              "      <td>1</td>\n",
              "      <td>1</td>\n",
              "      <td>2</td>\n",
              "      <td>0</td>\n",
              "      <td>2</td>\n",
              "      <td>train</td>\n",
              "      <td>0</td>\n",
              "    </tr>\n",
              "  </tbody>\n",
              "</table>\n",
              "</div>"
            ],
            "text/plain": [
              "   hours_per_week_bin  occupation_bin  msr_bin  ...  age_bin   flag  y\n",
              "0                   0               0        0  ...        0  train  0\n",
              "1                   1               1        1  ...        1  train  0\n",
              "2                   0               2        0  ...        0  train  0\n",
              "3                   0               2        1  ...        1  train  0\n",
              "4                   0               1        1  ...        2  train  0\n",
              "\n",
              "[5 rows x 9 columns]"
            ]
          },
          "metadata": {
            "tags": []
          },
          "execution_count": 4
        }
      ]
    },
    {
      "cell_type": "code",
      "metadata": {
        "id": "dNqnPO2zMUSb",
        "colab_type": "code",
        "colab": {}
      },
      "source": [
        "\n",
        "#splitting the train and test dataset\n",
        "train_data=census_fact[census_fact['flag']=='train']\n",
        "test_data=census_fact[census_fact['flag']=='test']\n",
        "\n",
        "#selecting independant and dependant variables\n",
        "X_train = train_data[['hours_per_week_bin','occupation_bin','msr_bin','capital_gl_bin','race_sex_bin','education_bin','age_bin']]\n",
        "Y_train = train_data['y']\n",
        "X_test=X = test_data[['hours_per_week_bin','occupation_bin','msr_bin','capital_gl_bin','race_sex_bin','education_bin','age_bin']]\n",
        "Y_test = test_data['y']"
      ],
      "execution_count": 0,
      "outputs": []
    },
    {
      "cell_type": "code",
      "metadata": {
        "id": "XANICgKd87W7",
        "colab_type": "code",
        "outputId": "8cb95aba-42c0-4a39-f365-0f11c0957deb",
        "colab": {
          "base_uri": "https://localhost:8080/",
          "height": 269
        }
      },
      "source": [
        "import sklearn.ensemble\n",
        "import pandas as pd\n",
        "import numpy as np\n",
        "\n",
        "\n",
        "\n",
        "#set up before drawing the line\n",
        "estimator_range=list(range(50,550,50))\n",
        "accuracy_results_rfc=[]\n",
        "\n",
        "for tree_num in estimator_range:\n",
        "  model_rfc=sklearn.ensemble.RandomForestClassifier(n_estimators=tree_num,random_state=100)\n",
        "  model_rfc.fit(X_train,Y_train)\n",
        "  y_pred=model_rfc.predict(X_test)\n",
        "\n",
        "  accuracy=np.mean(Y_test==y_pred)\n",
        "  accuracy_results_rfc.append(accuracy)\n",
        "\n",
        "plt.figure(figsize=(8,4))\n",
        "\n",
        "pd.Series(accuracy_results_rfc,estimator_range).plot(color='darkred',marker='o')\n",
        "plt.grid()\n",
        "\n",
        "plt.show()\n"
      ],
      "execution_count": 0,
      "outputs": [
        {
          "output_type": "display_data",
          "data": {
            "image/png": "[encoded data removed]",
            "text/plain": [
              "<Figure size 576x288 with 1 Axes>"
            ]
          },
          "metadata": {
            "tags": []
          }
        }
      ]
    },
    {
      "cell_type": "markdown",
      "metadata": {
        "id": "H7p03ojo8qN-",
        "colab_type": "text"
      },
      "source": [
        "Answer the following question:\n",
        "\n",
        "1. Write your observations about the Classifier’s behavior with respect to the\n",
        "number of estimators\n",
        "\n",
        "2. Is there an optimal value of the estimator within the given range?"
      ]
    },
    {
      "cell_type": "markdown",
      "metadata": {
        "id": "Ac0DwE1dKREX",
        "colab_type": "text"
      },
      "source": [
        "3.1\n",
        "The accuracy is increasing while the number of trees is increasing, but could not be improved while the accuracy has reach 250 and show some ups and downs.\n",
        "\n",
        "3.2\n",
        "The estimators 250 or 400 show greatest results which are at the middle of the range, thus these estimators are believed to be the best in this range of estimators."
      ]
    },
    {
      "cell_type": "markdown",
      "metadata": {
        "id": "-DJmwFg6MN5R",
        "colab_type": "text"
      },
      "source": [
        "## **4. Building AdaBoost, Gradient Boost (classifier) and XGB Model**"
      ]
    },
    {
      "cell_type": "code",
      "metadata": {
        "id": "y7d1QBghMQp9",
        "colab_type": "code",
        "outputId": "d58e0219-31eb-4520-9ff9-7f7e190c40eb",
        "colab": {
          "base_uri": "https://localhost:8080/",
          "height": 265
        }
      },
      "source": [
        "#AdaBoost\n",
        "\n",
        "from sklearn.ensemble import AdaBoostClassifier,GradientBoostingClassifier\n",
        "\n",
        "\n",
        "#set up before drawing the line\n",
        "estimator_range=list(range(50,550,50))\n",
        "accuracy_results_abc=[]\n",
        "\n",
        "for tree_num in estimator_range:\n",
        "  model_abc=AdaBoostClassifier(n_estimators=tree_num,random_state=100)\n",
        "  model_abc.fit(X_train,Y_train)\n",
        "  y_pred=model_abc.predict(X_test)\n",
        "\n",
        "  accuracy=np.mean(Y_test==y_pred)\n",
        "  accuracy_results_abc.append(accuracy)\n",
        "\n",
        "plt.figure(figsize=(8,4))\n",
        "\n",
        "pd.Series(accuracy_results_abc,estimator_range).plot(color='darkred',marker='o')\n",
        "plt.grid()\n",
        "\n",
        "plt.show()"
      ],
      "execution_count": 0,
      "outputs": [
        {
          "output_type": "display_data",
          "data": {
            "image/png": "[encoded data removed]",
            "text/plain": [
              "<Figure size 576x288 with 1 Axes>"
            ]
          },
          "metadata": {
            "tags": []
          }
        }
      ]
    },
    {
      "cell_type": "markdown",
      "metadata": {
        "id": "ouw2Y9sjOyBN",
        "colab_type": "text"
      },
      "source": [
        "It is very clear that as n_estimators is allowed to be larger, the accuracy is increasing significant However, the accuracy is not increasing for the model after the n_estimator has reached to 200. Optimal estimator shall be over 200."
      ]
    },
    {
      "cell_type": "code",
      "metadata": {
        "id": "b2vOJGFwMQn3",
        "colab_type": "code",
        "outputId": "46c62037-f30a-49f0-c34b-934b9ecf4a0e",
        "colab": {
          "base_uri": "https://localhost:8080/",
          "height": 265
        }
      },
      "source": [
        "#Gradient Boost classifier\n",
        "\n",
        "from sklearn.ensemble import AdaBoostClassifier,GradientBoostingClassifier\n",
        "\n",
        "\n",
        "#set up before drawing the line\n",
        "estimator_range=list(range(50,550,50))\n",
        "accuracy_results_gbc=[]\n",
        "\n",
        "for tree_num in estimator_range:\n",
        "  model_gbc=GradientBoostingClassifier(n_estimators=tree_num,random_state=100)\n",
        "  model_gbc.fit(X_train,Y_train)\n",
        "  y_pred=model_gbc.predict(X_test)\n",
        "\n",
        "  accuracy=np.mean(Y_test==y_pred)\n",
        "  accuracy_results_gbc.append(accuracy)\n",
        "\n",
        "plt.figure(figsize=(8,4))\n",
        "\n",
        "pd.Series(accuracy_results_gbc,estimator_range).plot(color='darkred',marker='o')\n",
        "plt.grid()\n",
        "\n",
        "plt.show()"
      ],
      "execution_count": 0,
      "outputs": [
        {
          "output_type": "display_data",
          "data": {
            "image/png": "[encoded data removed]",
            "text/plain": [
              "<Figure size 576x288 with 1 Axes>"
            ]
          },
          "metadata": {
            "tags": []
          }
        }
      ]
    },
    {
      "cell_type": "markdown",
      "metadata": {
        "id": "8sAK9vuHPk4k",
        "colab_type": "text"
      },
      "source": [
        "Like the AdaBoost model, the accuracy is increasing as the n_estimators gets larger, but shows some vibration after the n_estimator is greater than 100. Optimal estimator shall be 250 or 450."
      ]
    },
    {
      "cell_type": "code",
      "metadata": {
        "id": "mI-Q-PJmPkFC",
        "colab_type": "code",
        "outputId": "022e65b5-485d-4a9d-b8a1-de936f120646",
        "colab": {
          "base_uri": "https://localhost:8080/",
          "height": 67
        }
      },
      "source": [
        "!pip install xgboost"
      ],
      "execution_count": 0,
      "outputs": [
        {
          "output_type": "stream",
          "text": [
            "Requirement already satisfied: xgboost in /usr/local/lib/python3.6/dist-packages (0.90)\n",
            "Requirement already satisfied: numpy in /usr/local/lib/python3.6/dist-packages (from xgboost) (1.17.5)\n",
            "Requirement already satisfied: scipy in /usr/local/lib/python3.6/dist-packages (from xgboost) (1.4.1)\n"
          ],
          "name": "stdout"
        }
      ]
    },
    {
      "cell_type": "code",
      "metadata": {
        "id": "WPuy8YmdMQlW",
        "colab_type": "code",
        "outputId": "dbc27f6a-fc15-4d6a-ada6-e16d991bc385",
        "colab": {
          "base_uri": "https://localhost:8080/",
          "height": 265
        }
      },
      "source": [
        "from sklearn import datasets\n",
        "import xgboost as xgb\n",
        "\n",
        "#set up before drawing the line\n",
        "estimator_range=list(range(50,550,50))\n",
        "accuracy_results_xgbc=[]\n",
        "\n",
        "\n",
        "for tree_num in estimator_range:\n",
        "  model_xgbc=xgb.XGBClassifier(n_estimators=tree_num,random_state=100)\n",
        "  model_xgbc.fit(X_train,Y_train)\n",
        "  y_pred=model_xgbc.predict(X_test)\n",
        "\n",
        "  accuracy=np.mean(Y_test==y_pred)\n",
        "  accuracy_results_xgbc.append(accuracy)\n",
        "\n",
        "plt.figure(figsize=(8,4))\n",
        "\n",
        "pd.Series(accuracy_results_xgbc,estimator_range).plot(color='darkred',marker='o')\n",
        "plt.grid()\n",
        "\n",
        "plt.show()\n",
        "\n",
        "\n",
        "#below are xgb, not xgb classifier\n",
        "#param = {\n",
        "#    'eta':0.3,\n",
        "#    'max_depth':3,\n",
        "#    'objective':'multi:softprob',\n",
        "#    'num_class':3\n",
        "#}\n",
        "\n",
        "#D_train = xgb.DMatrix(X_train, label=Y_train)\n",
        "#D_test = xgb.DMatrix(X_test, label=Y_test)\n",
        "#step_range=list(range(2,22,2))\n",
        "#  model_xgb= xgb.train(param,D_train,step_num)\n",
        "#  y_pred= model_xgb.predict(D_test)"
      ],
      "execution_count": 0,
      "outputs": [
        {
          "output_type": "display_data",
          "data": {
            "image/png": "[encoded data removed]",
            "text/plain": [
              "<Figure size 576x288 with 1 Axes>"
            ]
          },
          "metadata": {
            "tags": []
          }
        }
      ]
    },
    {
      "cell_type": "markdown",
      "metadata": {
        "id": "s951MBvla48t",
        "colab_type": "text"
      },
      "source": [
        "Like the previous models, XGB Classifier is mainly showing an increasing trend within the range, but the accuracy is decreased when the estimator is greater than 150. Optimal n_estimator shall be 100 to 200. "
      ]
    },
    {
      "cell_type": "markdown",
      "metadata": {
        "id": "ekuGtZgZSZbk",
        "colab_type": "text"
      },
      "source": [
        "## **5. Compare Performance**"
      ]
    },
    {
      "cell_type": "code",
      "metadata": {
        "id": "uqmQTX4XSs2Y",
        "colab_type": "code",
        "outputId": "e884460b-3753-4acd-822b-10c3bbf6c63f",
        "colab": {
          "base_uri": "https://localhost:8080/",
          "height": 101
        }
      },
      "source": [
        "#As the graphs show before, 250 seems to be the best estimator for all\n",
        "#models for comparison of the best results.\n",
        "\n",
        "tree_num_comparison=250\n",
        "random_state_comparison=100\n",
        "\n",
        "#random forest\n",
        "rfc=[]\n",
        "model_rfc=sklearn.ensemble.RandomForestClassifier(n_estimators=tree_num_comparison,random_state=random_state_comparison)\n",
        "model_rfc.fit(X_train,Y_train)\n",
        "y_pred=model_rfc.predict(X_test)\n",
        "\n",
        "accuracy=np.mean(Y_test==y_pred)\n",
        "rfc.append(accuracy)\n",
        "\n",
        "y_pred_prob = model_abc.predict_proba(X_test)[:,1]\n",
        "fpr, tpr, threshold = metrics.roc_curve(Y_test, y_pred_prob)\n",
        "roc_auc = metrics.auc(fpr, tpr)\n",
        "rfc.append(roc_auc)\n",
        "\n",
        "#adaboost\n",
        "abc=[]\n",
        "model_abc=AdaBoostClassifier(n_estimators=tree_num_comparison,random_state=random_state_comparison)\n",
        "model_abc.fit(X_train,Y_train)\n",
        "y_pred=model_abc.predict(X_test)\n",
        "accuracy=np.mean(Y_test==y_pred)\n",
        "abc.append(accuracy)\n",
        "\n",
        "y_pred_prob = model_abc.predict_proba(X_test)[:,1]\n",
        "fpr, tpr, threshold = metrics.roc_curve(Y_test, y_pred_prob)\n",
        "roc_auc = metrics.auc(fpr, tpr)\n",
        "abc.append(roc_auc)\n",
        "\n",
        "\n",
        "#gradient boost\n",
        "gbc=[]\n",
        "model_gbc=GradientBoostingClassifier(n_estimators=tree_num_comparison,random_state=random_state_comparison)\n",
        "model_gbc.fit(X_train,Y_train)\n",
        "y_pred=model_gbc.predict(X_test)\n",
        "accuracy=np.mean(Y_test==y_pred)\n",
        "gbc.append(accuracy)\n",
        "\n",
        "y_pred_prob = model_gbc.predict_proba(X_test)[:,1]\n",
        "fpr, tpr, threshold = metrics.roc_curve(Y_test, y_pred_prob)\n",
        "roc_auc = metrics.auc(fpr, tpr)\n",
        "gbc.append(roc_auc)\n",
        "\n",
        "\n",
        "\n",
        "\n",
        "#xgb classifier\n",
        "xgbc=[]\n",
        "model_xgbc=xgb.XGBClassifier(n_estimators=tree_num_comparison,random_state=random_state_comparison)\n",
        "model_xgbc.fit(X_train,Y_train)\n",
        "y_pred=model_xgbc.predict(X_test)\n",
        "accuracy=np.mean(Y_test==y_pred)\n",
        "xgbc.append(accuracy)\n",
        "\n",
        "y_pred_prob = model_xgbc.predict_proba(X_test)[:,1]\n",
        "fpr, tpr, threshold = metrics.roc_curve(Y_test, y_pred_prob)\n",
        "roc_auc = metrics.auc(fpr, tpr)\n",
        "xgbc.append(roc_auc)\n",
        "\n",
        "#building dataframe\n",
        "data_dict={'Random Forest':rfc,'AdaBoost':abc,'Gradient Boost':gbc,'XGB':xgbc}\n",
        "df=pd.DataFrame(data=data_dict,index=['Accuracy','AUC'])\n",
        "print(df)\n",
        "print('n_estimator: ',tree_num_comparison)\n",
        "print('random_state: ',random_state_comparison)"
      ],
      "execution_count": 0,
      "outputs": [
        {
          "output_type": "stream",
          "text": [
            "          Random Forest  AdaBoost  Gradient Boost       XGB\n",
            "Accuracy       0.838216  0.845157        0.847859  0.847061\n",
            "AUC            0.897428  0.897428        0.898840  0.899351\n",
            "n_estimator:  250\n",
            "random_state:  100\n"
          ],
          "name": "stdout"
        }
      ]
    }
  ]
}